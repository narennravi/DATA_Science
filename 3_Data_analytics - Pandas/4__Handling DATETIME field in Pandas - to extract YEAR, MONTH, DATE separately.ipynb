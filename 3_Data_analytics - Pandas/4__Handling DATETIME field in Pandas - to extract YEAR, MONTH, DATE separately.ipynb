{
 "cells": [
  {
   "cell_type": "code",
   "execution_count": 1,
   "id": "03786dd4",
   "metadata": {},
   "outputs": [],
   "source": [
    "import pandas as pd"
   ]
  },
  {
   "cell_type": "code",
   "execution_count": 4,
   "id": "0748fdf2",
   "metadata": {},
   "outputs": [],
   "source": [
    "df = pd.read_csv(\"E:/DATA Science - My preparation/3_Data_analytics - Pandas/Data-files/Pandas - Q1 Sales.csv\")"
   ]
  },
  {
   "cell_type": "code",
   "execution_count": 5,
   "id": "3582d9dd",
   "metadata": {},
   "outputs": [
    {
     "data": {
      "text/html": [
       "<div>\n",
       "<style scoped>\n",
       "    .dataframe tbody tr th:only-of-type {\n",
       "        vertical-align: middle;\n",
       "    }\n",
       "\n",
       "    .dataframe tbody tr th {\n",
       "        vertical-align: top;\n",
       "    }\n",
       "\n",
       "    .dataframe thead th {\n",
       "        text-align: right;\n",
       "    }\n",
       "</style>\n",
       "<table border=\"1\" class=\"dataframe\">\n",
       "  <thead>\n",
       "    <tr style=\"text-align: right;\">\n",
       "      <th></th>\n",
       "      <th>Country</th>\n",
       "      <th>Region</th>\n",
       "      <th>Sales Person</th>\n",
       "      <th>Date of Purchase</th>\n",
       "      <th>Total</th>\n",
       "      <th>Quantity</th>\n",
       "    </tr>\n",
       "  </thead>\n",
       "  <tbody>\n",
       "    <tr>\n",
       "      <th>0</th>\n",
       "      <td>India</td>\n",
       "      <td>North</td>\n",
       "      <td>John</td>\n",
       "      <td>4/4/2018 0:00:00</td>\n",
       "      <td>100000</td>\n",
       "      <td>567</td>\n",
       "    </tr>\n",
       "    <tr>\n",
       "      <th>1</th>\n",
       "      <td>US</td>\n",
       "      <td>North</td>\n",
       "      <td>Bill</td>\n",
       "      <td>12/11/2017 0:00:00</td>\n",
       "      <td>120000</td>\n",
       "      <td>3000</td>\n",
       "    </tr>\n",
       "    <tr>\n",
       "      <th>2</th>\n",
       "      <td>UK</td>\n",
       "      <td>North</td>\n",
       "      <td>Thomas</td>\n",
       "      <td>5/12/2016 0:00:00</td>\n",
       "      <td>140000</td>\n",
       "      <td>345</td>\n",
       "    </tr>\n",
       "    <tr>\n",
       "      <th>3</th>\n",
       "      <td>Australia</td>\n",
       "      <td>East</td>\n",
       "      <td>John</td>\n",
       "      <td>6/20/2011 0:00:00</td>\n",
       "      <td>160000</td>\n",
       "      <td>1000</td>\n",
       "    </tr>\n",
       "    <tr>\n",
       "      <th>4</th>\n",
       "      <td>Africa</td>\n",
       "      <td>East</td>\n",
       "      <td>Bill</td>\n",
       "      <td>4/12/2011 0:00:00</td>\n",
       "      <td>180000</td>\n",
       "      <td>123</td>\n",
       "    </tr>\n",
       "  </tbody>\n",
       "</table>\n",
       "</div>"
      ],
      "text/plain": [
       "     Country Region Sales Person    Date of Purchase   Total  Quantity\n",
       "0      India  North         John    4/4/2018 0:00:00  100000       567\n",
       "1         US  North         Bill  12/11/2017 0:00:00  120000      3000\n",
       "2         UK  North       Thomas   5/12/2016 0:00:00  140000       345\n",
       "3  Australia   East         John   6/20/2011 0:00:00  160000      1000\n",
       "4     Africa   East         Bill   4/12/2011 0:00:00  180000       123"
      ]
     },
     "execution_count": 5,
     "metadata": {},
     "output_type": "execute_result"
    }
   ],
   "source": [
    "df.head()"
   ]
  },
  {
   "cell_type": "code",
   "execution_count": 8,
   "id": "f1c93d96",
   "metadata": {},
   "outputs": [
    {
     "data": {
      "text/plain": [
       "0       4/4/2018 0:00:00\n",
       "1     12/11/2017 0:00:00\n",
       "2      5/12/2016 0:00:00\n",
       "3      6/20/2011 0:00:00\n",
       "4      4/12/2011 0:00:00\n",
       "5       7/5/2014 0:00:00\n",
       "6      8/15/2015 0:00:00\n",
       "7     11/19/2015 0:00:00\n",
       "8      8/29/2017 0:00:00\n",
       "9      5/10/2018 0:00:00\n",
       "10     12/9/2016 0:00:00\n",
       "11      7/4/2018 0:00:00\n",
       "12     9/15/2017 0:00:00\n",
       "13      9/2/2011 0:00:00\n",
       "14     10/5/2014 0:00:00\n",
       "15     1/24/2013 0:00:00\n",
       "16      1/6/2017 0:00:00\n",
       "17     8/28/2010 0:00:00\n",
       "18     6/20/2014 0:00:00\n",
       "19     1/29/2014 0:00:00\n",
       "Name: Date of Purchase, dtype: object"
      ]
     },
     "execution_count": 8,
     "metadata": {},
     "output_type": "execute_result"
    }
   ],
   "source": [
    "df['Date of Purchase']\n",
    "\n",
    "# When you take entire column - Object"
   ]
  },
  {
   "cell_type": "code",
   "execution_count": 9,
   "id": "602e0541",
   "metadata": {},
   "outputs": [
    {
     "data": {
      "text/plain": [
       "'7/5/2014 0:00:00'"
      ]
     },
     "execution_count": 9,
     "metadata": {},
     "output_type": "execute_result"
    }
   ],
   "source": [
    "df['Date of Purchase'][5]\n",
    "\n",
    "# when you take particular value from column - string"
   ]
  },
  {
   "cell_type": "code",
   "execution_count": 10,
   "id": "34f8902c",
   "metadata": {},
   "outputs": [
    {
     "data": {
      "text/plain": [
       "str"
      ]
     },
     "execution_count": 10,
     "metadata": {},
     "output_type": "execute_result"
    }
   ],
   "source": [
    "type(df['Date of Purchase'][5])"
   ]
  },
  {
   "cell_type": "code",
   "execution_count": null,
   "id": "800ce03c",
   "metadata": {},
   "outputs": [],
   "source": []
  },
  {
   "cell_type": "code",
   "execution_count": null,
   "id": "e95721e2",
   "metadata": {},
   "outputs": [],
   "source": [
    "# 1.  How to convert \"string\" ---> \"Time-stamp\"..?"
   ]
  },
  {
   "cell_type": "code",
   "execution_count": 11,
   "id": "106cbd89",
   "metadata": {},
   "outputs": [
    {
     "data": {
      "text/plain": [
       "Timestamp('2014-07-05 00:00:00')"
      ]
     },
     "execution_count": 11,
     "metadata": {},
     "output_type": "execute_result"
    }
   ],
   "source": [
    "pd.to_datetime(df['Date of Purchase'])[5]"
   ]
  },
  {
   "cell_type": "code",
   "execution_count": null,
   "id": "51765dd3",
   "metadata": {},
   "outputs": [],
   "source": []
  },
  {
   "cell_type": "code",
   "execution_count": null,
   "id": "8cebd8bc",
   "metadata": {},
   "outputs": [],
   "source": [
    "# 2.  How to assign Time-stamp to column(Date of purchase) in df..?"
   ]
  },
  {
   "cell_type": "code",
   "execution_count": 12,
   "id": "9c55b3de",
   "metadata": {},
   "outputs": [],
   "source": [
    "df['Date of Purchase'] = pd.to_datetime(df['Date of Purchase'])"
   ]
  },
  {
   "cell_type": "code",
   "execution_count": 13,
   "id": "bd96d6d8",
   "metadata": {},
   "outputs": [
    {
     "data": {
      "text/html": [
       "<div>\n",
       "<style scoped>\n",
       "    .dataframe tbody tr th:only-of-type {\n",
       "        vertical-align: middle;\n",
       "    }\n",
       "\n",
       "    .dataframe tbody tr th {\n",
       "        vertical-align: top;\n",
       "    }\n",
       "\n",
       "    .dataframe thead th {\n",
       "        text-align: right;\n",
       "    }\n",
       "</style>\n",
       "<table border=\"1\" class=\"dataframe\">\n",
       "  <thead>\n",
       "    <tr style=\"text-align: right;\">\n",
       "      <th></th>\n",
       "      <th>Country</th>\n",
       "      <th>Region</th>\n",
       "      <th>Sales Person</th>\n",
       "      <th>Date of Purchase</th>\n",
       "      <th>Total</th>\n",
       "      <th>Quantity</th>\n",
       "    </tr>\n",
       "  </thead>\n",
       "  <tbody>\n",
       "    <tr>\n",
       "      <th>0</th>\n",
       "      <td>India</td>\n",
       "      <td>North</td>\n",
       "      <td>John</td>\n",
       "      <td>2018-04-04</td>\n",
       "      <td>100000</td>\n",
       "      <td>567</td>\n",
       "    </tr>\n",
       "    <tr>\n",
       "      <th>1</th>\n",
       "      <td>US</td>\n",
       "      <td>North</td>\n",
       "      <td>Bill</td>\n",
       "      <td>2017-12-11</td>\n",
       "      <td>120000</td>\n",
       "      <td>3000</td>\n",
       "    </tr>\n",
       "    <tr>\n",
       "      <th>2</th>\n",
       "      <td>UK</td>\n",
       "      <td>North</td>\n",
       "      <td>Thomas</td>\n",
       "      <td>2016-05-12</td>\n",
       "      <td>140000</td>\n",
       "      <td>345</td>\n",
       "    </tr>\n",
       "    <tr>\n",
       "      <th>3</th>\n",
       "      <td>Australia</td>\n",
       "      <td>East</td>\n",
       "      <td>John</td>\n",
       "      <td>2011-06-20</td>\n",
       "      <td>160000</td>\n",
       "      <td>1000</td>\n",
       "    </tr>\n",
       "    <tr>\n",
       "      <th>4</th>\n",
       "      <td>Africa</td>\n",
       "      <td>East</td>\n",
       "      <td>Bill</td>\n",
       "      <td>2011-04-12</td>\n",
       "      <td>180000</td>\n",
       "      <td>123</td>\n",
       "    </tr>\n",
       "  </tbody>\n",
       "</table>\n",
       "</div>"
      ],
      "text/plain": [
       "     Country Region Sales Person Date of Purchase   Total  Quantity\n",
       "0      India  North         John       2018-04-04  100000       567\n",
       "1         US  North         Bill       2017-12-11  120000      3000\n",
       "2         UK  North       Thomas       2016-05-12  140000       345\n",
       "3  Australia   East         John       2011-06-20  160000      1000\n",
       "4     Africa   East         Bill       2011-04-12  180000       123"
      ]
     },
     "execution_count": 13,
     "metadata": {},
     "output_type": "execute_result"
    }
   ],
   "source": [
    "df.head()\n",
    "\n",
    "# Now - Date of Purchase(col) is converted as \"Time-stamp\""
   ]
  },
  {
   "cell_type": "code",
   "execution_count": null,
   "id": "1b5c092b",
   "metadata": {},
   "outputs": [],
   "source": []
  },
  {
   "cell_type": "code",
   "execution_count": null,
   "id": "6d49a191",
   "metadata": {},
   "outputs": [],
   "source": [
    "# 3.1  How to extract year separately in df..?"
   ]
  },
  {
   "cell_type": "code",
   "execution_count": 15,
   "id": "4d48ae2b",
   "metadata": {},
   "outputs": [
    {
     "data": {
      "text/plain": [
       "0     2018\n",
       "1     2017\n",
       "2     2016\n",
       "3     2011\n",
       "4     2011\n",
       "5     2014\n",
       "6     2015\n",
       "7     2015\n",
       "8     2017\n",
       "9     2018\n",
       "10    2016\n",
       "11    2018\n",
       "12    2017\n",
       "13    2011\n",
       "14    2014\n",
       "15    2013\n",
       "16    2017\n",
       "17    2010\n",
       "18    2014\n",
       "19    2014\n",
       "Name: Date of Purchase, dtype: int64"
      ]
     },
     "execution_count": 15,
     "metadata": {},
     "output_type": "execute_result"
    }
   ],
   "source": [
    "pd.to_datetime(df['Date of Purchase']).dt.year"
   ]
  },
  {
   "cell_type": "code",
   "execution_count": 16,
   "id": "4cb66d24",
   "metadata": {},
   "outputs": [],
   "source": [
    "df['Year'] = pd.to_datetime(df['Date of Purchase']).dt.year\n",
    "\n",
    "# Year-column is created & year extraction will stored in (\"Year\")"
   ]
  },
  {
   "cell_type": "code",
   "execution_count": 18,
   "id": "edc2c32d",
   "metadata": {},
   "outputs": [
    {
     "data": {
      "text/html": [
       "<div>\n",
       "<style scoped>\n",
       "    .dataframe tbody tr th:only-of-type {\n",
       "        vertical-align: middle;\n",
       "    }\n",
       "\n",
       "    .dataframe tbody tr th {\n",
       "        vertical-align: top;\n",
       "    }\n",
       "\n",
       "    .dataframe thead th {\n",
       "        text-align: right;\n",
       "    }\n",
       "</style>\n",
       "<table border=\"1\" class=\"dataframe\">\n",
       "  <thead>\n",
       "    <tr style=\"text-align: right;\">\n",
       "      <th></th>\n",
       "      <th>Country</th>\n",
       "      <th>Region</th>\n",
       "      <th>Sales Person</th>\n",
       "      <th>Date of Purchase</th>\n",
       "      <th>Total</th>\n",
       "      <th>Quantity</th>\n",
       "      <th>Year</th>\n",
       "    </tr>\n",
       "  </thead>\n",
       "  <tbody>\n",
       "    <tr>\n",
       "      <th>0</th>\n",
       "      <td>India</td>\n",
       "      <td>North</td>\n",
       "      <td>John</td>\n",
       "      <td>2018-04-04</td>\n",
       "      <td>100000</td>\n",
       "      <td>567</td>\n",
       "      <td>2018</td>\n",
       "    </tr>\n",
       "    <tr>\n",
       "      <th>1</th>\n",
       "      <td>US</td>\n",
       "      <td>North</td>\n",
       "      <td>Bill</td>\n",
       "      <td>2017-12-11</td>\n",
       "      <td>120000</td>\n",
       "      <td>3000</td>\n",
       "      <td>2017</td>\n",
       "    </tr>\n",
       "    <tr>\n",
       "      <th>2</th>\n",
       "      <td>UK</td>\n",
       "      <td>North</td>\n",
       "      <td>Thomas</td>\n",
       "      <td>2016-05-12</td>\n",
       "      <td>140000</td>\n",
       "      <td>345</td>\n",
       "      <td>2016</td>\n",
       "    </tr>\n",
       "    <tr>\n",
       "      <th>3</th>\n",
       "      <td>Australia</td>\n",
       "      <td>East</td>\n",
       "      <td>John</td>\n",
       "      <td>2011-06-20</td>\n",
       "      <td>160000</td>\n",
       "      <td>1000</td>\n",
       "      <td>2011</td>\n",
       "    </tr>\n",
       "    <tr>\n",
       "      <th>4</th>\n",
       "      <td>Africa</td>\n",
       "      <td>East</td>\n",
       "      <td>Bill</td>\n",
       "      <td>2011-04-12</td>\n",
       "      <td>180000</td>\n",
       "      <td>123</td>\n",
       "      <td>2011</td>\n",
       "    </tr>\n",
       "  </tbody>\n",
       "</table>\n",
       "</div>"
      ],
      "text/plain": [
       "     Country Region Sales Person Date of Purchase   Total  Quantity  Year\n",
       "0      India  North         John       2018-04-04  100000       567  2018\n",
       "1         US  North         Bill       2017-12-11  120000      3000  2017\n",
       "2         UK  North       Thomas       2016-05-12  140000       345  2016\n",
       "3  Australia   East         John       2011-06-20  160000      1000  2011\n",
       "4     Africa   East         Bill       2011-04-12  180000       123  2011"
      ]
     },
     "execution_count": 18,
     "metadata": {},
     "output_type": "execute_result"
    }
   ],
   "source": [
    "df.head()"
   ]
  },
  {
   "cell_type": "code",
   "execution_count": null,
   "id": "a6fe9728",
   "metadata": {},
   "outputs": [],
   "source": []
  },
  {
   "cell_type": "code",
   "execution_count": null,
   "id": "265220ad",
   "metadata": {},
   "outputs": [],
   "source": [
    "# 3.2  How to extract month separately in df..?"
   ]
  },
  {
   "cell_type": "code",
   "execution_count": 22,
   "id": "4c1dcb24",
   "metadata": {},
   "outputs": [],
   "source": [
    "df['Month'] = pd.to_datetime(df['Date of Purchase']).dt.month\n",
    "\n",
    "# Month-column is created & Month extraction will stored in (\"Month\")"
   ]
  },
  {
   "cell_type": "code",
   "execution_count": 23,
   "id": "d5dcb3c8",
   "metadata": {},
   "outputs": [
    {
     "data": {
      "text/html": [
       "<div>\n",
       "<style scoped>\n",
       "    .dataframe tbody tr th:only-of-type {\n",
       "        vertical-align: middle;\n",
       "    }\n",
       "\n",
       "    .dataframe tbody tr th {\n",
       "        vertical-align: top;\n",
       "    }\n",
       "\n",
       "    .dataframe thead th {\n",
       "        text-align: right;\n",
       "    }\n",
       "</style>\n",
       "<table border=\"1\" class=\"dataframe\">\n",
       "  <thead>\n",
       "    <tr style=\"text-align: right;\">\n",
       "      <th></th>\n",
       "      <th>Country</th>\n",
       "      <th>Region</th>\n",
       "      <th>Sales Person</th>\n",
       "      <th>Date of Purchase</th>\n",
       "      <th>Total</th>\n",
       "      <th>Quantity</th>\n",
       "      <th>Year</th>\n",
       "      <th>Month</th>\n",
       "    </tr>\n",
       "  </thead>\n",
       "  <tbody>\n",
       "    <tr>\n",
       "      <th>0</th>\n",
       "      <td>India</td>\n",
       "      <td>North</td>\n",
       "      <td>John</td>\n",
       "      <td>2018-04-04</td>\n",
       "      <td>100000</td>\n",
       "      <td>567</td>\n",
       "      <td>2018</td>\n",
       "      <td>4</td>\n",
       "    </tr>\n",
       "    <tr>\n",
       "      <th>1</th>\n",
       "      <td>US</td>\n",
       "      <td>North</td>\n",
       "      <td>Bill</td>\n",
       "      <td>2017-12-11</td>\n",
       "      <td>120000</td>\n",
       "      <td>3000</td>\n",
       "      <td>2017</td>\n",
       "      <td>12</td>\n",
       "    </tr>\n",
       "    <tr>\n",
       "      <th>2</th>\n",
       "      <td>UK</td>\n",
       "      <td>North</td>\n",
       "      <td>Thomas</td>\n",
       "      <td>2016-05-12</td>\n",
       "      <td>140000</td>\n",
       "      <td>345</td>\n",
       "      <td>2016</td>\n",
       "      <td>5</td>\n",
       "    </tr>\n",
       "    <tr>\n",
       "      <th>3</th>\n",
       "      <td>Australia</td>\n",
       "      <td>East</td>\n",
       "      <td>John</td>\n",
       "      <td>2011-06-20</td>\n",
       "      <td>160000</td>\n",
       "      <td>1000</td>\n",
       "      <td>2011</td>\n",
       "      <td>6</td>\n",
       "    </tr>\n",
       "    <tr>\n",
       "      <th>4</th>\n",
       "      <td>Africa</td>\n",
       "      <td>East</td>\n",
       "      <td>Bill</td>\n",
       "      <td>2011-04-12</td>\n",
       "      <td>180000</td>\n",
       "      <td>123</td>\n",
       "      <td>2011</td>\n",
       "      <td>4</td>\n",
       "    </tr>\n",
       "  </tbody>\n",
       "</table>\n",
       "</div>"
      ],
      "text/plain": [
       "     Country Region Sales Person Date of Purchase   Total  Quantity  Year  \\\n",
       "0      India  North         John       2018-04-04  100000       567  2018   \n",
       "1         US  North         Bill       2017-12-11  120000      3000  2017   \n",
       "2         UK  North       Thomas       2016-05-12  140000       345  2016   \n",
       "3  Australia   East         John       2011-06-20  160000      1000  2011   \n",
       "4     Africa   East         Bill       2011-04-12  180000       123  2011   \n",
       "\n",
       "   Month  \n",
       "0      4  \n",
       "1     12  \n",
       "2      5  \n",
       "3      6  \n",
       "4      4  "
      ]
     },
     "execution_count": 23,
     "metadata": {},
     "output_type": "execute_result"
    }
   ],
   "source": [
    "df.head()"
   ]
  },
  {
   "cell_type": "code",
   "execution_count": null,
   "id": "329d761a",
   "metadata": {},
   "outputs": [],
   "source": []
  },
  {
   "cell_type": "code",
   "execution_count": null,
   "id": "4642746e",
   "metadata": {},
   "outputs": [],
   "source": [
    "# 3.3  How to extract month separately in df..?"
   ]
  },
  {
   "cell_type": "code",
   "execution_count": 24,
   "id": "4ce584e3",
   "metadata": {},
   "outputs": [],
   "source": [
    "df['Day'] = pd.to_datetime(df['Date of Purchase']).dt.day\n",
    "\n",
    "# Day-column is created & Day extraction will stored in (\"Day\")"
   ]
  },
  {
   "cell_type": "code",
   "execution_count": 25,
   "id": "65ebf50e",
   "metadata": {},
   "outputs": [
    {
     "data": {
      "text/html": [
       "<div>\n",
       "<style scoped>\n",
       "    .dataframe tbody tr th:only-of-type {\n",
       "        vertical-align: middle;\n",
       "    }\n",
       "\n",
       "    .dataframe tbody tr th {\n",
       "        vertical-align: top;\n",
       "    }\n",
       "\n",
       "    .dataframe thead th {\n",
       "        text-align: right;\n",
       "    }\n",
       "</style>\n",
       "<table border=\"1\" class=\"dataframe\">\n",
       "  <thead>\n",
       "    <tr style=\"text-align: right;\">\n",
       "      <th></th>\n",
       "      <th>Country</th>\n",
       "      <th>Region</th>\n",
       "      <th>Sales Person</th>\n",
       "      <th>Date of Purchase</th>\n",
       "      <th>Total</th>\n",
       "      <th>Quantity</th>\n",
       "      <th>Year</th>\n",
       "      <th>Month</th>\n",
       "      <th>Day</th>\n",
       "    </tr>\n",
       "  </thead>\n",
       "  <tbody>\n",
       "    <tr>\n",
       "      <th>0</th>\n",
       "      <td>India</td>\n",
       "      <td>North</td>\n",
       "      <td>John</td>\n",
       "      <td>2018-04-04</td>\n",
       "      <td>100000</td>\n",
       "      <td>567</td>\n",
       "      <td>2018</td>\n",
       "      <td>4</td>\n",
       "      <td>4</td>\n",
       "    </tr>\n",
       "    <tr>\n",
       "      <th>1</th>\n",
       "      <td>US</td>\n",
       "      <td>North</td>\n",
       "      <td>Bill</td>\n",
       "      <td>2017-12-11</td>\n",
       "      <td>120000</td>\n",
       "      <td>3000</td>\n",
       "      <td>2017</td>\n",
       "      <td>12</td>\n",
       "      <td>11</td>\n",
       "    </tr>\n",
       "    <tr>\n",
       "      <th>2</th>\n",
       "      <td>UK</td>\n",
       "      <td>North</td>\n",
       "      <td>Thomas</td>\n",
       "      <td>2016-05-12</td>\n",
       "      <td>140000</td>\n",
       "      <td>345</td>\n",
       "      <td>2016</td>\n",
       "      <td>5</td>\n",
       "      <td>12</td>\n",
       "    </tr>\n",
       "    <tr>\n",
       "      <th>3</th>\n",
       "      <td>Australia</td>\n",
       "      <td>East</td>\n",
       "      <td>John</td>\n",
       "      <td>2011-06-20</td>\n",
       "      <td>160000</td>\n",
       "      <td>1000</td>\n",
       "      <td>2011</td>\n",
       "      <td>6</td>\n",
       "      <td>20</td>\n",
       "    </tr>\n",
       "    <tr>\n",
       "      <th>4</th>\n",
       "      <td>Africa</td>\n",
       "      <td>East</td>\n",
       "      <td>Bill</td>\n",
       "      <td>2011-04-12</td>\n",
       "      <td>180000</td>\n",
       "      <td>123</td>\n",
       "      <td>2011</td>\n",
       "      <td>4</td>\n",
       "      <td>12</td>\n",
       "    </tr>\n",
       "  </tbody>\n",
       "</table>\n",
       "</div>"
      ],
      "text/plain": [
       "     Country Region Sales Person Date of Purchase   Total  Quantity  Year  \\\n",
       "0      India  North         John       2018-04-04  100000       567  2018   \n",
       "1         US  North         Bill       2017-12-11  120000      3000  2017   \n",
       "2         UK  North       Thomas       2016-05-12  140000       345  2016   \n",
       "3  Australia   East         John       2011-06-20  160000      1000  2011   \n",
       "4     Africa   East         Bill       2011-04-12  180000       123  2011   \n",
       "\n",
       "   Month  Day  \n",
       "0      4    4  \n",
       "1     12   11  \n",
       "2      5   12  \n",
       "3      6   20  \n",
       "4      4   12  "
      ]
     },
     "execution_count": 25,
     "metadata": {},
     "output_type": "execute_result"
    }
   ],
   "source": [
    "df.head()"
   ]
  },
  {
   "cell_type": "code",
   "execution_count": null,
   "id": "7b372a4c",
   "metadata": {},
   "outputs": [],
   "source": []
  },
  {
   "cell_type": "code",
   "execution_count": null,
   "id": "1a484384",
   "metadata": {},
   "outputs": [],
   "source": []
  },
  {
   "cell_type": "code",
   "execution_count": null,
   "id": "cdd1243c",
   "metadata": {},
   "outputs": [],
   "source": [
    "# NOTE:-\n",
    "\n",
    "# 1. Year:\n",
    "#     Using extension --> .dt.year  in   pd.to_datetime() - function \n",
    "#     Extracts & Display \"\"year\"\" alone\n",
    "\n",
    "# 2. Month:\n",
    "#     Using extension --> .dt.month  in   pd.to_datetime() - function \n",
    "#     Extracts & Display \"\"month\"\" alone\n",
    "\n",
    "# 3. Day:\n",
    "#     Using extension --> .dt.day  in   pd.to_datetime() - function \n",
    "#     Extracts & Display \"\"Day\"\" alone"
   ]
  }
 ],
 "metadata": {
  "kernelspec": {
   "display_name": "Python 3 (ipykernel)",
   "language": "python",
   "name": "python3"
  },
  "language_info": {
   "codemirror_mode": {
    "name": "ipython",
    "version": 3
   },
   "file_extension": ".py",
   "mimetype": "text/x-python",
   "name": "python",
   "nbconvert_exporter": "python",
   "pygments_lexer": "ipython3",
   "version": "3.9.13"
  }
 },
 "nbformat": 4,
 "nbformat_minor": 5
}
