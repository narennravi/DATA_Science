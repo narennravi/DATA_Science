{
 "cells": [
  {
   "cell_type": "code",
   "execution_count": 1,
   "id": "7aec134c",
   "metadata": {},
   "outputs": [],
   "source": [
    "import pandas as pd"
   ]
  },
  {
   "cell_type": "code",
   "execution_count": 2,
   "id": "3a00800d",
   "metadata": {},
   "outputs": [],
   "source": [
    "df = pd.read_csv(\"E:/DATA Science - My preparation/3_Data_analytics - Pandas/Data-files/Pandas - Q1 Sales.csv\")"
   ]
  },
  {
   "cell_type": "code",
   "execution_count": 3,
   "id": "134d7970",
   "metadata": {},
   "outputs": [
    {
     "data": {
      "text/html": [
       "<div>\n",
       "<style scoped>\n",
       "    .dataframe tbody tr th:only-of-type {\n",
       "        vertical-align: middle;\n",
       "    }\n",
       "\n",
       "    .dataframe tbody tr th {\n",
       "        vertical-align: top;\n",
       "    }\n",
       "\n",
       "    .dataframe thead th {\n",
       "        text-align: right;\n",
       "    }\n",
       "</style>\n",
       "<table border=\"1\" class=\"dataframe\">\n",
       "  <thead>\n",
       "    <tr style=\"text-align: right;\">\n",
       "      <th></th>\n",
       "      <th>Country</th>\n",
       "      <th>Region</th>\n",
       "      <th>Sales Person</th>\n",
       "      <th>Date of Purchase</th>\n",
       "      <th>Total</th>\n",
       "      <th>Quantity</th>\n",
       "    </tr>\n",
       "  </thead>\n",
       "  <tbody>\n",
       "    <tr>\n",
       "      <th>0</th>\n",
       "      <td>India</td>\n",
       "      <td>North</td>\n",
       "      <td>John</td>\n",
       "      <td>4/4/2018 0:00:00</td>\n",
       "      <td>100000</td>\n",
       "      <td>567</td>\n",
       "    </tr>\n",
       "    <tr>\n",
       "      <th>1</th>\n",
       "      <td>US</td>\n",
       "      <td>North</td>\n",
       "      <td>Bill</td>\n",
       "      <td>12/11/2017 0:00:00</td>\n",
       "      <td>120000</td>\n",
       "      <td>3000</td>\n",
       "    </tr>\n",
       "    <tr>\n",
       "      <th>2</th>\n",
       "      <td>UK</td>\n",
       "      <td>North</td>\n",
       "      <td>Thomas</td>\n",
       "      <td>5/12/2016 0:00:00</td>\n",
       "      <td>140000</td>\n",
       "      <td>345</td>\n",
       "    </tr>\n",
       "    <tr>\n",
       "      <th>3</th>\n",
       "      <td>Australia</td>\n",
       "      <td>East</td>\n",
       "      <td>John</td>\n",
       "      <td>6/20/2011 0:00:00</td>\n",
       "      <td>160000</td>\n",
       "      <td>1000</td>\n",
       "    </tr>\n",
       "    <tr>\n",
       "      <th>4</th>\n",
       "      <td>Africa</td>\n",
       "      <td>East</td>\n",
       "      <td>Bill</td>\n",
       "      <td>4/12/2011 0:00:00</td>\n",
       "      <td>180000</td>\n",
       "      <td>123</td>\n",
       "    </tr>\n",
       "  </tbody>\n",
       "</table>\n",
       "</div>"
      ],
      "text/plain": [
       "     Country Region Sales Person    Date of Purchase   Total  Quantity\n",
       "0      India  North         John    4/4/2018 0:00:00  100000       567\n",
       "1         US  North         Bill  12/11/2017 0:00:00  120000      3000\n",
       "2         UK  North       Thomas   5/12/2016 0:00:00  140000       345\n",
       "3  Australia   East         John   6/20/2011 0:00:00  160000      1000\n",
       "4     Africa   East         Bill   4/12/2011 0:00:00  180000       123"
      ]
     },
     "execution_count": 3,
     "metadata": {},
     "output_type": "execute_result"
    }
   ],
   "source": [
    "df.head()"
   ]
  },
  {
   "cell_type": "code",
   "execution_count": null,
   "id": "d5ab059d",
   "metadata": {},
   "outputs": [],
   "source": []
  },
  {
   "cell_type": "code",
   "execution_count": null,
   "id": "17663d93",
   "metadata": {},
   "outputs": [],
   "source": []
  },
  {
   "cell_type": "code",
   "execution_count": 7,
   "id": "3bc033f1",
   "metadata": {},
   "outputs": [],
   "source": [
    "# Adding Bonus of 10% - column:-\n",
    "df['Bonus'] = df['Total'] / 10"
   ]
  },
  {
   "cell_type": "code",
   "execution_count": 8,
   "id": "584d10e1",
   "metadata": {},
   "outputs": [
    {
     "data": {
      "text/html": [
       "<div>\n",
       "<style scoped>\n",
       "    .dataframe tbody tr th:only-of-type {\n",
       "        vertical-align: middle;\n",
       "    }\n",
       "\n",
       "    .dataframe tbody tr th {\n",
       "        vertical-align: top;\n",
       "    }\n",
       "\n",
       "    .dataframe thead th {\n",
       "        text-align: right;\n",
       "    }\n",
       "</style>\n",
       "<table border=\"1\" class=\"dataframe\">\n",
       "  <thead>\n",
       "    <tr style=\"text-align: right;\">\n",
       "      <th></th>\n",
       "      <th>Country</th>\n",
       "      <th>Region</th>\n",
       "      <th>Sales Person</th>\n",
       "      <th>Date of Purchase</th>\n",
       "      <th>Total</th>\n",
       "      <th>Quantity</th>\n",
       "      <th>Bonus</th>\n",
       "    </tr>\n",
       "  </thead>\n",
       "  <tbody>\n",
       "    <tr>\n",
       "      <th>0</th>\n",
       "      <td>India</td>\n",
       "      <td>North</td>\n",
       "      <td>John</td>\n",
       "      <td>4/4/2018 0:00:00</td>\n",
       "      <td>100000</td>\n",
       "      <td>567</td>\n",
       "      <td>10000.0</td>\n",
       "    </tr>\n",
       "    <tr>\n",
       "      <th>1</th>\n",
       "      <td>US</td>\n",
       "      <td>North</td>\n",
       "      <td>Bill</td>\n",
       "      <td>12/11/2017 0:00:00</td>\n",
       "      <td>120000</td>\n",
       "      <td>3000</td>\n",
       "      <td>12000.0</td>\n",
       "    </tr>\n",
       "    <tr>\n",
       "      <th>2</th>\n",
       "      <td>UK</td>\n",
       "      <td>North</td>\n",
       "      <td>Thomas</td>\n",
       "      <td>5/12/2016 0:00:00</td>\n",
       "      <td>140000</td>\n",
       "      <td>345</td>\n",
       "      <td>14000.0</td>\n",
       "    </tr>\n",
       "    <tr>\n",
       "      <th>3</th>\n",
       "      <td>Australia</td>\n",
       "      <td>East</td>\n",
       "      <td>John</td>\n",
       "      <td>6/20/2011 0:00:00</td>\n",
       "      <td>160000</td>\n",
       "      <td>1000</td>\n",
       "      <td>16000.0</td>\n",
       "    </tr>\n",
       "    <tr>\n",
       "      <th>4</th>\n",
       "      <td>Africa</td>\n",
       "      <td>East</td>\n",
       "      <td>Bill</td>\n",
       "      <td>4/12/2011 0:00:00</td>\n",
       "      <td>180000</td>\n",
       "      <td>123</td>\n",
       "      <td>18000.0</td>\n",
       "    </tr>\n",
       "  </tbody>\n",
       "</table>\n",
       "</div>"
      ],
      "text/plain": [
       "     Country Region Sales Person    Date of Purchase   Total  Quantity  \\\n",
       "0      India  North         John    4/4/2018 0:00:00  100000       567   \n",
       "1         US  North         Bill  12/11/2017 0:00:00  120000      3000   \n",
       "2         UK  North       Thomas   5/12/2016 0:00:00  140000       345   \n",
       "3  Australia   East         John   6/20/2011 0:00:00  160000      1000   \n",
       "4     Africa   East         Bill   4/12/2011 0:00:00  180000       123   \n",
       "\n",
       "     Bonus  \n",
       "0  10000.0  \n",
       "1  12000.0  \n",
       "2  14000.0  \n",
       "3  16000.0  \n",
       "4  18000.0  "
      ]
     },
     "execution_count": 8,
     "metadata": {},
     "output_type": "execute_result"
    }
   ],
   "source": [
    "df.head()"
   ]
  },
  {
   "cell_type": "code",
   "execution_count": 9,
   "id": "626344f2",
   "metadata": {},
   "outputs": [],
   "source": [
    "# Adding Sales Ratio - column:-\n",
    "df['Sales Ratio'] = df['Total'] / df['Quantity']"
   ]
  },
  {
   "cell_type": "code",
   "execution_count": 10,
   "id": "31824bfd",
   "metadata": {},
   "outputs": [
    {
     "data": {
      "text/html": [
       "<div>\n",
       "<style scoped>\n",
       "    .dataframe tbody tr th:only-of-type {\n",
       "        vertical-align: middle;\n",
       "    }\n",
       "\n",
       "    .dataframe tbody tr th {\n",
       "        vertical-align: top;\n",
       "    }\n",
       "\n",
       "    .dataframe thead th {\n",
       "        text-align: right;\n",
       "    }\n",
       "</style>\n",
       "<table border=\"1\" class=\"dataframe\">\n",
       "  <thead>\n",
       "    <tr style=\"text-align: right;\">\n",
       "      <th></th>\n",
       "      <th>Country</th>\n",
       "      <th>Region</th>\n",
       "      <th>Sales Person</th>\n",
       "      <th>Date of Purchase</th>\n",
       "      <th>Total</th>\n",
       "      <th>Quantity</th>\n",
       "      <th>Bonus</th>\n",
       "      <th>Sales Ratio</th>\n",
       "    </tr>\n",
       "  </thead>\n",
       "  <tbody>\n",
       "    <tr>\n",
       "      <th>0</th>\n",
       "      <td>India</td>\n",
       "      <td>North</td>\n",
       "      <td>John</td>\n",
       "      <td>4/4/2018 0:00:00</td>\n",
       "      <td>100000</td>\n",
       "      <td>567</td>\n",
       "      <td>10000.0</td>\n",
       "      <td>176.366843</td>\n",
       "    </tr>\n",
       "    <tr>\n",
       "      <th>1</th>\n",
       "      <td>US</td>\n",
       "      <td>North</td>\n",
       "      <td>Bill</td>\n",
       "      <td>12/11/2017 0:00:00</td>\n",
       "      <td>120000</td>\n",
       "      <td>3000</td>\n",
       "      <td>12000.0</td>\n",
       "      <td>40.000000</td>\n",
       "    </tr>\n",
       "    <tr>\n",
       "      <th>2</th>\n",
       "      <td>UK</td>\n",
       "      <td>North</td>\n",
       "      <td>Thomas</td>\n",
       "      <td>5/12/2016 0:00:00</td>\n",
       "      <td>140000</td>\n",
       "      <td>345</td>\n",
       "      <td>14000.0</td>\n",
       "      <td>405.797101</td>\n",
       "    </tr>\n",
       "    <tr>\n",
       "      <th>3</th>\n",
       "      <td>Australia</td>\n",
       "      <td>East</td>\n",
       "      <td>John</td>\n",
       "      <td>6/20/2011 0:00:00</td>\n",
       "      <td>160000</td>\n",
       "      <td>1000</td>\n",
       "      <td>16000.0</td>\n",
       "      <td>160.000000</td>\n",
       "    </tr>\n",
       "    <tr>\n",
       "      <th>4</th>\n",
       "      <td>Africa</td>\n",
       "      <td>East</td>\n",
       "      <td>Bill</td>\n",
       "      <td>4/12/2011 0:00:00</td>\n",
       "      <td>180000</td>\n",
       "      <td>123</td>\n",
       "      <td>18000.0</td>\n",
       "      <td>1463.414634</td>\n",
       "    </tr>\n",
       "  </tbody>\n",
       "</table>\n",
       "</div>"
      ],
      "text/plain": [
       "     Country Region Sales Person    Date of Purchase   Total  Quantity  \\\n",
       "0      India  North         John    4/4/2018 0:00:00  100000       567   \n",
       "1         US  North         Bill  12/11/2017 0:00:00  120000      3000   \n",
       "2         UK  North       Thomas   5/12/2016 0:00:00  140000       345   \n",
       "3  Australia   East         John   6/20/2011 0:00:00  160000      1000   \n",
       "4     Africa   East         Bill   4/12/2011 0:00:00  180000       123   \n",
       "\n",
       "     Bonus  Sales Ratio  \n",
       "0  10000.0   176.366843  \n",
       "1  12000.0    40.000000  \n",
       "2  14000.0   405.797101  \n",
       "3  16000.0   160.000000  \n",
       "4  18000.0  1463.414634  "
      ]
     },
     "execution_count": 10,
     "metadata": {},
     "output_type": "execute_result"
    }
   ],
   "source": [
    "df.head()"
   ]
  },
  {
   "cell_type": "code",
   "execution_count": null,
   "id": "5e0e463b",
   "metadata": {},
   "outputs": [],
   "source": []
  },
  {
   "cell_type": "code",
   "execution_count": null,
   "id": "37558710",
   "metadata": {},
   "outputs": [],
   "source": []
  },
  {
   "cell_type": "code",
   "execution_count": 5,
   "id": "dc004e5c",
   "metadata": {},
   "outputs": [],
   "source": [
    "# Correlation-matrix:-\n",
    "#     It takes Numerical columns from df & Calculate the correlation and display result in matrix - format\n",
    "#     We visualize the correlation matrix  --> \"Heat-waves\" = Special effect"
   ]
  },
  {
   "cell_type": "code",
   "execution_count": 11,
   "id": "d7ac1cf6",
   "metadata": {},
   "outputs": [
    {
     "data": {
      "text/html": [
       "<div>\n",
       "<style scoped>\n",
       "    .dataframe tbody tr th:only-of-type {\n",
       "        vertical-align: middle;\n",
       "    }\n",
       "\n",
       "    .dataframe tbody tr th {\n",
       "        vertical-align: top;\n",
       "    }\n",
       "\n",
       "    .dataframe thead th {\n",
       "        text-align: right;\n",
       "    }\n",
       "</style>\n",
       "<table border=\"1\" class=\"dataframe\">\n",
       "  <thead>\n",
       "    <tr style=\"text-align: right;\">\n",
       "      <th></th>\n",
       "      <th>Total</th>\n",
       "      <th>Quantity</th>\n",
       "      <th>Bonus</th>\n",
       "      <th>Sales Ratio</th>\n",
       "    </tr>\n",
       "  </thead>\n",
       "  <tbody>\n",
       "    <tr>\n",
       "      <th>Total</th>\n",
       "      <td>1.000000</td>\n",
       "      <td>0.031260</td>\n",
       "      <td>1.000000</td>\n",
       "      <td>0.984196</td>\n",
       "    </tr>\n",
       "    <tr>\n",
       "      <th>Quantity</th>\n",
       "      <td>0.031260</td>\n",
       "      <td>1.000000</td>\n",
       "      <td>0.031260</td>\n",
       "      <td>-0.070494</td>\n",
       "    </tr>\n",
       "    <tr>\n",
       "      <th>Bonus</th>\n",
       "      <td>1.000000</td>\n",
       "      <td>0.031260</td>\n",
       "      <td>1.000000</td>\n",
       "      <td>0.984196</td>\n",
       "    </tr>\n",
       "    <tr>\n",
       "      <th>Sales Ratio</th>\n",
       "      <td>0.984196</td>\n",
       "      <td>-0.070494</td>\n",
       "      <td>0.984196</td>\n",
       "      <td>1.000000</td>\n",
       "    </tr>\n",
       "  </tbody>\n",
       "</table>\n",
       "</div>"
      ],
      "text/plain": [
       "                Total  Quantity     Bonus  Sales Ratio\n",
       "Total        1.000000  0.031260  1.000000     0.984196\n",
       "Quantity     0.031260  1.000000  0.031260    -0.070494\n",
       "Bonus        1.000000  0.031260  1.000000     0.984196\n",
       "Sales Ratio  0.984196 -0.070494  0.984196     1.000000"
      ]
     },
     "execution_count": 11,
     "metadata": {},
     "output_type": "execute_result"
    }
   ],
   "source": [
    "# Creating Correlation for numerical-values in df:-\n",
    "corr = df.corr()\n",
    "corr"
   ]
  },
  {
   "cell_type": "code",
   "execution_count": null,
   "id": "ff03f4a5",
   "metadata": {},
   "outputs": [],
   "source": []
  },
  {
   "cell_type": "code",
   "execution_count": null,
   "id": "dec9b55b",
   "metadata": {},
   "outputs": [],
   "source": []
  },
  {
   "cell_type": "code",
   "execution_count": null,
   "id": "fae080be",
   "metadata": {},
   "outputs": [],
   "source": [
    "# HEAT-MAP:-\n",
    "#    heatmap is used to give \"Visualization view of correlation-matrix\" in map-format to easy understanding purpose.\n"
   ]
  },
  {
   "cell_type": "code",
   "execution_count": null,
   "id": "cc080132",
   "metadata": {},
   "outputs": [],
   "source": [
    "# NOTE:-\n",
    "#     To access heatmap - we need to import module \"Seaborn\""
   ]
  },
  {
   "cell_type": "code",
   "execution_count": 12,
   "id": "a79d33ac",
   "metadata": {},
   "outputs": [],
   "source": [
    "import seaborn as sns"
   ]
  },
  {
   "cell_type": "code",
   "execution_count": 15,
   "id": "076fce27",
   "metadata": {},
   "outputs": [
    {
     "data": {
      "text/plain": [
       "<AxesSubplot:>"
      ]
     },
     "execution_count": 15,
     "metadata": {},
     "output_type": "execute_result"
    },
    {
     "data": {
      "image/png": "[encoded data removed]",
      "text/plain": [
       "<Figure size 640x480 with 2 Axes>"
      ]
     },
     "metadata": {},
     "output_type": "display_data"
    }
   ],
   "source": [
    "sns.heatmap(corr)\n",
    "\n",
    "# Display mapping --> color based correlation-value"
   ]
  },
  {
   "cell_type": "code",
   "execution_count": 16,
   "id": "0e4f3da0",
   "metadata": {},
   "outputs": [
    {
     "data": {
      "text/plain": [
       "<AxesSubplot:>"
      ]
     },
     "execution_count": 16,
     "metadata": {},
     "output_type": "execute_result"
    },
    {
     "data": {
      "image/png": "[encoded data removed]",
      "text/plain": [
       "<Figure size 640x480 with 2 Axes>"
      ]
     },
     "metadata": {},
     "output_type": "display_data"
    }
   ],
   "source": [
    "sns.heatmap(corr, annot=True)\n",
    "\n",
    "# annot = true    --> display corelation vaue in box"
   ]
  },
  {
   "cell_type": "code",
   "execution_count": null,
   "id": "4fa98497",
   "metadata": {},
   "outputs": [],
   "source": [
    "# NOTE:-\n",
    "\n",
    "#     lite colors indicate 'HIGH Correlated' --> very good corelation ratio\n",
    "#     Dark colors indicate 'Less Correlated' --> very poor corelation ratio"
   ]
  }
 ],
 "metadata": {
  "kernelspec": {
   "display_name": "Python 3 (ipykernel)",
   "language": "python",
   "name": "python3"
  },
  "language_info": {
   "codemirror_mode": {
    "name": "ipython",
    "version": 3
   },
   "file_extension": ".py",
   "mimetype": "text/x-python",
   "name": "python",
   "nbconvert_exporter": "python",
   "pygments_lexer": "ipython3",
   "version": "3.9.13"
  }
 },
 "nbformat": 4,
 "nbformat_minor": 5
}
