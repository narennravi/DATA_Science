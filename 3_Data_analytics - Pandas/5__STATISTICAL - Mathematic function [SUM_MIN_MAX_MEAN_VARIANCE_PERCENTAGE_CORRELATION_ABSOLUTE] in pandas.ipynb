{
 "cells": [
  {
   "cell_type": "code",
   "execution_count": 1,
   "id": "68ccff16",
   "metadata": {},
   "outputs": [],
   "source": [
    "import pandas as pd"
   ]
  },
  {
   "cell_type": "code",
   "execution_count": 2,
   "id": "6b146e0f",
   "metadata": {},
   "outputs": [],
   "source": [
    "df = pd.read_csv(\"E:/DATA Science - My preparation/3_Data_analytics - Pandas/Data-files/Pandas - Q1 Sales.csv\")"
   ]
  },
  {
   "cell_type": "code",
   "execution_count": 3,
   "id": "1aadb9c2",
   "metadata": {
    "scrolled": false
   },
   "outputs": [
    {
     "data": {
      "text/html": [
       "<div>\n",
       "<style scoped>\n",
       "    .dataframe tbody tr th:only-of-type {\n",
       "        vertical-align: middle;\n",
       "    }\n",
       "\n",
       "    .dataframe tbody tr th {\n",
       "        vertical-align: top;\n",
       "    }\n",
       "\n",
       "    .dataframe thead th {\n",
       "        text-align: right;\n",
       "    }\n",
       "</style>\n",
       "<table border=\"1\" class=\"dataframe\">\n",
       "  <thead>\n",
       "    <tr style=\"text-align: right;\">\n",
       "      <th></th>\n",
       "      <th>Country</th>\n",
       "      <th>Region</th>\n",
       "      <th>Sales Person</th>\n",
       "      <th>Date of Purchase</th>\n",
       "      <th>Total</th>\n",
       "      <th>Quantity</th>\n",
       "    </tr>\n",
       "  </thead>\n",
       "  <tbody>\n",
       "    <tr>\n",
       "      <th>0</th>\n",
       "      <td>India</td>\n",
       "      <td>North</td>\n",
       "      <td>John</td>\n",
       "      <td>4/4/2018 0:00:00</td>\n",
       "      <td>100000</td>\n",
       "      <td>567</td>\n",
       "    </tr>\n",
       "    <tr>\n",
       "      <th>1</th>\n",
       "      <td>US</td>\n",
       "      <td>North</td>\n",
       "      <td>Bill</td>\n",
       "      <td>12/11/2017 0:00:00</td>\n",
       "      <td>120000</td>\n",
       "      <td>3000</td>\n",
       "    </tr>\n",
       "    <tr>\n",
       "      <th>2</th>\n",
       "      <td>UK</td>\n",
       "      <td>North</td>\n",
       "      <td>Thomas</td>\n",
       "      <td>5/12/2016 0:00:00</td>\n",
       "      <td>140000</td>\n",
       "      <td>345</td>\n",
       "    </tr>\n",
       "    <tr>\n",
       "      <th>3</th>\n",
       "      <td>Australia</td>\n",
       "      <td>East</td>\n",
       "      <td>John</td>\n",
       "      <td>6/20/2011 0:00:00</td>\n",
       "      <td>160000</td>\n",
       "      <td>1000</td>\n",
       "    </tr>\n",
       "    <tr>\n",
       "      <th>4</th>\n",
       "      <td>Africa</td>\n",
       "      <td>East</td>\n",
       "      <td>Bill</td>\n",
       "      <td>4/12/2011 0:00:00</td>\n",
       "      <td>180000</td>\n",
       "      <td>123</td>\n",
       "    </tr>\n",
       "  </tbody>\n",
       "</table>\n",
       "</div>"
      ],
      "text/plain": [
       "     Country Region Sales Person    Date of Purchase   Total  Quantity\n",
       "0      India  North         John    4/4/2018 0:00:00  100000       567\n",
       "1         US  North         Bill  12/11/2017 0:00:00  120000      3000\n",
       "2         UK  North       Thomas   5/12/2016 0:00:00  140000       345\n",
       "3  Australia   East         John   6/20/2011 0:00:00  160000      1000\n",
       "4     Africa   East         Bill   4/12/2011 0:00:00  180000       123"
      ]
     },
     "execution_count": 3,
     "metadata": {},
     "output_type": "execute_result"
    }
   ],
   "source": [
    "df.head()"
   ]
  },
  {
   "cell_type": "code",
   "execution_count": null,
   "id": "b342961f",
   "metadata": {},
   "outputs": [],
   "source": []
  },
  {
   "cell_type": "code",
   "execution_count": null,
   "id": "a795ce2b",
   "metadata": {},
   "outputs": [],
   "source": []
  },
  {
   "cell_type": "code",
   "execution_count": null,
   "id": "11afcfaa",
   "metadata": {},
   "outputs": [],
   "source": [
    "# MIN:-"
   ]
  },
  {
   "cell_type": "code",
   "execution_count": null,
   "id": "163b27a2",
   "metadata": {},
   "outputs": [],
   "source": [
    "# 1. How to display \"minimum\" from each-field using df..?"
   ]
  },
  {
   "cell_type": "code",
   "execution_count": 4,
   "id": "76c81490",
   "metadata": {},
   "outputs": [
    {
     "data": {
      "text/plain": [
       "Country                        Africa\n",
       "Region                           East\n",
       "Sales Person                     Bill\n",
       "Date of Purchase    1/24/2013 0:00:00\n",
       "Total                          100000\n",
       "Quantity                           85\n",
       "dtype: object"
      ]
     },
     "execution_count": 4,
     "metadata": {},
     "output_type": "execute_result"
    }
   ],
   "source": [
    "df.min()"
   ]
  },
  {
   "cell_type": "code",
   "execution_count": null,
   "id": "c068ce9e",
   "metadata": {},
   "outputs": [],
   "source": [
    "# 2. How to know min-value from field-->\"Quantity\"..?"
   ]
  },
  {
   "cell_type": "code",
   "execution_count": 5,
   "id": "6747fe06",
   "metadata": {},
   "outputs": [
    {
     "data": {
      "text/plain": [
       "85"
      ]
     },
     "execution_count": 5,
     "metadata": {},
     "output_type": "execute_result"
    }
   ],
   "source": [
    "df['Quantity'].min()"
   ]
  },
  {
   "cell_type": "code",
   "execution_count": null,
   "id": "eb3d2e65",
   "metadata": {},
   "outputs": [],
   "source": [
    "# 3. How to get minimum-value from both fields = \"Total & Quantity\""
   ]
  },
  {
   "cell_type": "code",
   "execution_count": 6,
   "id": "31b9c2fe",
   "metadata": {},
   "outputs": [
    {
     "data": {
      "text/plain": [
       "Total       100000\n",
       "Quantity        85\n",
       "dtype: int64"
      ]
     },
     "execution_count": 6,
     "metadata": {},
     "output_type": "execute_result"
    }
   ],
   "source": [
    "df[['Total','Quantity']].min()"
   ]
  },
  {
   "cell_type": "code",
   "execution_count": null,
   "id": "6474794f",
   "metadata": {},
   "outputs": [],
   "source": []
  },
  {
   "cell_type": "code",
   "execution_count": null,
   "id": "ad7edbe9",
   "metadata": {},
   "outputs": [],
   "source": []
  },
  {
   "cell_type": "code",
   "execution_count": null,
   "id": "0b1b4bb8",
   "metadata": {},
   "outputs": [],
   "source": [
    "# MAX:-"
   ]
  },
  {
   "cell_type": "code",
   "execution_count": null,
   "id": "cd0574fd",
   "metadata": {},
   "outputs": [],
   "source": [
    "# 1. How to display \"Maximum\" from each-field using df..?"
   ]
  },
  {
   "cell_type": "code",
   "execution_count": 8,
   "id": "ad15442f",
   "metadata": {},
   "outputs": [
    {
     "data": {
      "text/plain": [
       "Country                           US\n",
       "Region                          West\n",
       "Sales Person                  Thomas\n",
       "Date of Purchase    9/2/2011 0:00:00\n",
       "Total                       26000000\n",
       "Quantity                        7890\n",
       "dtype: object"
      ]
     },
     "execution_count": 8,
     "metadata": {},
     "output_type": "execute_result"
    }
   ],
   "source": [
    "df.max()"
   ]
  },
  {
   "cell_type": "code",
   "execution_count": null,
   "id": "c11b5fb3",
   "metadata": {},
   "outputs": [],
   "source": [
    "# 2. How to know max-value from field-->\"Quantity\"..?"
   ]
  },
  {
   "cell_type": "code",
   "execution_count": 9,
   "id": "71cdac49",
   "metadata": {},
   "outputs": [
    {
     "data": {
      "text/plain": [
       "26000000"
      ]
     },
     "execution_count": 9,
     "metadata": {},
     "output_type": "execute_result"
    }
   ],
   "source": [
    "df['Total'].max()"
   ]
  },
  {
   "cell_type": "code",
   "execution_count": null,
   "id": "f0d7243a",
   "metadata": {},
   "outputs": [],
   "source": [
    "# 3. How to get Maximum-value from both fields = \"Total & Quantity\""
   ]
  },
  {
   "cell_type": "code",
   "execution_count": 10,
   "id": "7c0824d1",
   "metadata": {},
   "outputs": [
    {
     "data": {
      "text/plain": [
       "Total       26000000\n",
       "Quantity        7890\n",
       "dtype: int64"
      ]
     },
     "execution_count": 10,
     "metadata": {},
     "output_type": "execute_result"
    }
   ],
   "source": [
    "df[['Total','Quantity']].max()"
   ]
  },
  {
   "cell_type": "code",
   "execution_count": null,
   "id": "9e7e2ce6",
   "metadata": {},
   "outputs": [],
   "source": []
  },
  {
   "cell_type": "code",
   "execution_count": null,
   "id": "a4d093f6",
   "metadata": {},
   "outputs": [],
   "source": []
  },
  {
   "cell_type": "code",
   "execution_count": null,
   "id": "d2416f08",
   "metadata": {},
   "outputs": [],
   "source": [
    "# MEAN:-"
   ]
  },
  {
   "cell_type": "code",
   "execution_count": null,
   "id": "8e668741",
   "metadata": {},
   "outputs": [],
   "source": [
    "# 1. What happens if we do mean on df..?"
   ]
  },
  {
   "cell_type": "code",
   "execution_count": 12,
   "id": "5fe274dd",
   "metadata": {},
   "outputs": [
    {
     "name": "stderr",
     "output_type": "stream",
     "text": [
      "C:\\Users\\Asus\\AppData\\Local\\Temp\\ipykernel_8920\\15859895.py:1: FutureWarning: Dropping of nuisance columns in DataFrame reductions (with 'numeric_only=None') is deprecated; in a future version this will raise TypeError.  Select only valid columns before calling the reduction.\n",
      "  df.mean()\n"
     ]
    },
    {
     "data": {
      "text/plain": [
       "Total       1502500.0\n",
       "Quantity        977.9\n",
       "dtype: float64"
      ]
     },
     "execution_count": 12,
     "metadata": {},
     "output_type": "execute_result"
    }
   ],
   "source": [
    "df.mean()\n",
    "\n",
    "# It takes only int-value & performs mean-value"
   ]
  },
  {
   "cell_type": "code",
   "execution_count": null,
   "id": "f2508084",
   "metadata": {},
   "outputs": [],
   "source": []
  },
  {
   "cell_type": "code",
   "execution_count": 14,
   "id": "b7ed5ee2",
   "metadata": {},
   "outputs": [
    {
     "data": {
      "text/html": [
       "<div>\n",
       "<style scoped>\n",
       "    .dataframe tbody tr th:only-of-type {\n",
       "        vertical-align: middle;\n",
       "    }\n",
       "\n",
       "    .dataframe tbody tr th {\n",
       "        vertical-align: top;\n",
       "    }\n",
       "\n",
       "    .dataframe thead th {\n",
       "        text-align: right;\n",
       "    }\n",
       "</style>\n",
       "<table border=\"1\" class=\"dataframe\">\n",
       "  <thead>\n",
       "    <tr style=\"text-align: right;\">\n",
       "      <th></th>\n",
       "      <th>Country</th>\n",
       "      <th>Region</th>\n",
       "      <th>Sales Person</th>\n",
       "      <th>Date of Purchase</th>\n",
       "      <th>Total</th>\n",
       "      <th>Quantity</th>\n",
       "    </tr>\n",
       "  </thead>\n",
       "  <tbody>\n",
       "    <tr>\n",
       "      <th>0</th>\n",
       "      <td>India</td>\n",
       "      <td>North</td>\n",
       "      <td>John</td>\n",
       "      <td>4/4/2018 0:00:00</td>\n",
       "      <td>100000</td>\n",
       "      <td>567</td>\n",
       "    </tr>\n",
       "    <tr>\n",
       "      <th>1</th>\n",
       "      <td>US</td>\n",
       "      <td>North</td>\n",
       "      <td>Bill</td>\n",
       "      <td>12/11/2017 0:00:00</td>\n",
       "      <td>120000</td>\n",
       "      <td>3000</td>\n",
       "    </tr>\n",
       "    <tr>\n",
       "      <th>2</th>\n",
       "      <td>UK</td>\n",
       "      <td>North</td>\n",
       "      <td>Thomas</td>\n",
       "      <td>5/12/2016 0:00:00</td>\n",
       "      <td>140000</td>\n",
       "      <td>345</td>\n",
       "    </tr>\n",
       "    <tr>\n",
       "      <th>3</th>\n",
       "      <td>Australia</td>\n",
       "      <td>East</td>\n",
       "      <td>John</td>\n",
       "      <td>6/20/2011 0:00:00</td>\n",
       "      <td>160000</td>\n",
       "      <td>1000</td>\n",
       "    </tr>\n",
       "    <tr>\n",
       "      <th>4</th>\n",
       "      <td>Africa</td>\n",
       "      <td>East</td>\n",
       "      <td>Bill</td>\n",
       "      <td>4/12/2011 0:00:00</td>\n",
       "      <td>180000</td>\n",
       "      <td>123</td>\n",
       "    </tr>\n",
       "  </tbody>\n",
       "</table>\n",
       "</div>"
      ],
      "text/plain": [
       "     Country Region Sales Person    Date of Purchase   Total  Quantity\n",
       "0      India  North         John    4/4/2018 0:00:00  100000       567\n",
       "1         US  North         Bill  12/11/2017 0:00:00  120000      3000\n",
       "2         UK  North       Thomas   5/12/2016 0:00:00  140000       345\n",
       "3  Australia   East         John   6/20/2011 0:00:00  160000      1000\n",
       "4     Africa   East         Bill   4/12/2011 0:00:00  180000       123"
      ]
     },
     "execution_count": 14,
     "metadata": {},
     "output_type": "execute_result"
    }
   ],
   "source": [
    "df.head()"
   ]
  },
  {
   "cell_type": "code",
   "execution_count": null,
   "id": "282da4d3",
   "metadata": {},
   "outputs": [],
   "source": []
  },
  {
   "cell_type": "code",
   "execution_count": null,
   "id": "cb5d9ecc",
   "metadata": {},
   "outputs": [],
   "source": [
    "# Exercise:-"
   ]
  },
  {
   "cell_type": "code",
   "execution_count": null,
   "id": "d308367f",
   "metadata": {},
   "outputs": [],
   "source": [
    "# 1.  How to know the specific person[Details] who sold most..?"
   ]
  },
  {
   "cell_type": "code",
   "execution_count": 20,
   "id": "eaee07b5",
   "metadata": {},
   "outputs": [
    {
     "data": {
      "text/html": [
       "<div>\n",
       "<style scoped>\n",
       "    .dataframe tbody tr th:only-of-type {\n",
       "        vertical-align: middle;\n",
       "    }\n",
       "\n",
       "    .dataframe tbody tr th {\n",
       "        vertical-align: top;\n",
       "    }\n",
       "\n",
       "    .dataframe thead th {\n",
       "        text-align: right;\n",
       "    }\n",
       "</style>\n",
       "<table border=\"1\" class=\"dataframe\">\n",
       "  <thead>\n",
       "    <tr style=\"text-align: right;\">\n",
       "      <th></th>\n",
       "      <th>Sales Person</th>\n",
       "      <th>Total</th>\n",
       "      <th>Quantity</th>\n",
       "    </tr>\n",
       "  </thead>\n",
       "  <tbody>\n",
       "    <tr>\n",
       "      <th>8</th>\n",
       "      <td>Thomas</td>\n",
       "      <td>26000000</td>\n",
       "      <td>1000</td>\n",
       "    </tr>\n",
       "  </tbody>\n",
       "</table>\n",
       "</div>"
      ],
      "text/plain": [
       "  Sales Person     Total  Quantity\n",
       "8       Thomas  26000000      1000"
      ]
     },
     "execution_count": 20,
     "metadata": {},
     "output_type": "execute_result"
    }
   ],
   "source": [
    "df[['Sales Person','Total','Quantity']][df['Total'] == df['Total'].max()]"
   ]
  },
  {
   "cell_type": "code",
   "execution_count": null,
   "id": "cfa50077",
   "metadata": {},
   "outputs": [],
   "source": []
  },
  {
   "cell_type": "code",
   "execution_count": null,
   "id": "97615207",
   "metadata": {},
   "outputs": [],
   "source": [
    "# 2. How to know the specific Country who sold Least -->['Quantity']..?"
   ]
  },
  {
   "cell_type": "code",
   "execution_count": 21,
   "id": "4941b376",
   "metadata": {},
   "outputs": [
    {
     "data": {
      "text/html": [
       "<div>\n",
       "<style scoped>\n",
       "    .dataframe tbody tr th:only-of-type {\n",
       "        vertical-align: middle;\n",
       "    }\n",
       "\n",
       "    .dataframe tbody tr th {\n",
       "        vertical-align: top;\n",
       "    }\n",
       "\n",
       "    .dataframe thead th {\n",
       "        text-align: right;\n",
       "    }\n",
       "</style>\n",
       "<table border=\"1\" class=\"dataframe\">\n",
       "  <thead>\n",
       "    <tr style=\"text-align: right;\">\n",
       "      <th></th>\n",
       "      <th>Country</th>\n",
       "      <th>Total</th>\n",
       "      <th>Quantity</th>\n",
       "    </tr>\n",
       "  </thead>\n",
       "  <tbody>\n",
       "    <tr>\n",
       "      <th>18</th>\n",
       "      <td>Africa</td>\n",
       "      <td>140000</td>\n",
       "      <td>85</td>\n",
       "    </tr>\n",
       "    <tr>\n",
       "      <th>19</th>\n",
       "      <td>Singapore</td>\n",
       "      <td>150000</td>\n",
       "      <td>85</td>\n",
       "    </tr>\n",
       "  </tbody>\n",
       "</table>\n",
       "</div>"
      ],
      "text/plain": [
       "      Country   Total  Quantity\n",
       "18     Africa  140000        85\n",
       "19  Singapore  150000        85"
      ]
     },
     "execution_count": 21,
     "metadata": {},
     "output_type": "execute_result"
    }
   ],
   "source": [
    "df[['Country','Total','Quantity']][df['Quantity'] == df['Quantity'].min()]"
   ]
  },
  {
   "cell_type": "code",
   "execution_count": null,
   "id": "1ffeac02",
   "metadata": {},
   "outputs": [],
   "source": []
  },
  {
   "cell_type": "code",
   "execution_count": null,
   "id": "221184b5",
   "metadata": {},
   "outputs": [],
   "source": []
  },
  {
   "cell_type": "code",
   "execution_count": null,
   "id": "276fb7b1",
   "metadata": {},
   "outputs": [],
   "source": [
    "# Selling Ratio:- "
   ]
  },
  {
   "cell_type": "code",
   "execution_count": null,
   "id": "da29b8b4",
   "metadata": {},
   "outputs": [],
   "source": [
    "# 1. How to find selling ratio using df..?\n",
    "#      \"\"Selling ratio = Total / Quantity\"\""
   ]
  },
  {
   "cell_type": "code",
   "execution_count": 22,
   "id": "5213ae65",
   "metadata": {},
   "outputs": [],
   "source": [
    "df['Selling Ratio'] = df['Total'] / df['Quantity']"
   ]
  },
  {
   "cell_type": "code",
   "execution_count": 23,
   "id": "8ba047a3",
   "metadata": {},
   "outputs": [
    {
     "data": {
      "text/html": [
       "<div>\n",
       "<style scoped>\n",
       "    .dataframe tbody tr th:only-of-type {\n",
       "        vertical-align: middle;\n",
       "    }\n",
       "\n",
       "    .dataframe tbody tr th {\n",
       "        vertical-align: top;\n",
       "    }\n",
       "\n",
       "    .dataframe thead th {\n",
       "        text-align: right;\n",
       "    }\n",
       "</style>\n",
       "<table border=\"1\" class=\"dataframe\">\n",
       "  <thead>\n",
       "    <tr style=\"text-align: right;\">\n",
       "      <th></th>\n",
       "      <th>Country</th>\n",
       "      <th>Region</th>\n",
       "      <th>Sales Person</th>\n",
       "      <th>Date of Purchase</th>\n",
       "      <th>Total</th>\n",
       "      <th>Quantity</th>\n",
       "      <th>Selling Ratio</th>\n",
       "    </tr>\n",
       "  </thead>\n",
       "  <tbody>\n",
       "    <tr>\n",
       "      <th>0</th>\n",
       "      <td>India</td>\n",
       "      <td>North</td>\n",
       "      <td>John</td>\n",
       "      <td>4/4/2018 0:00:00</td>\n",
       "      <td>100000</td>\n",
       "      <td>567</td>\n",
       "      <td>176.366843</td>\n",
       "    </tr>\n",
       "    <tr>\n",
       "      <th>1</th>\n",
       "      <td>US</td>\n",
       "      <td>North</td>\n",
       "      <td>Bill</td>\n",
       "      <td>12/11/2017 0:00:00</td>\n",
       "      <td>120000</td>\n",
       "      <td>3000</td>\n",
       "      <td>40.000000</td>\n",
       "    </tr>\n",
       "    <tr>\n",
       "      <th>2</th>\n",
       "      <td>UK</td>\n",
       "      <td>North</td>\n",
       "      <td>Thomas</td>\n",
       "      <td>5/12/2016 0:00:00</td>\n",
       "      <td>140000</td>\n",
       "      <td>345</td>\n",
       "      <td>405.797101</td>\n",
       "    </tr>\n",
       "    <tr>\n",
       "      <th>3</th>\n",
       "      <td>Australia</td>\n",
       "      <td>East</td>\n",
       "      <td>John</td>\n",
       "      <td>6/20/2011 0:00:00</td>\n",
       "      <td>160000</td>\n",
       "      <td>1000</td>\n",
       "      <td>160.000000</td>\n",
       "    </tr>\n",
       "    <tr>\n",
       "      <th>4</th>\n",
       "      <td>Africa</td>\n",
       "      <td>East</td>\n",
       "      <td>Bill</td>\n",
       "      <td>4/12/2011 0:00:00</td>\n",
       "      <td>180000</td>\n",
       "      <td>123</td>\n",
       "      <td>1463.414634</td>\n",
       "    </tr>\n",
       "  </tbody>\n",
       "</table>\n",
       "</div>"
      ],
      "text/plain": [
       "     Country Region Sales Person    Date of Purchase   Total  Quantity  \\\n",
       "0      India  North         John    4/4/2018 0:00:00  100000       567   \n",
       "1         US  North         Bill  12/11/2017 0:00:00  120000      3000   \n",
       "2         UK  North       Thomas   5/12/2016 0:00:00  140000       345   \n",
       "3  Australia   East         John   6/20/2011 0:00:00  160000      1000   \n",
       "4     Africa   East         Bill   4/12/2011 0:00:00  180000       123   \n",
       "\n",
       "   Selling Ratio  \n",
       "0     176.366843  \n",
       "1      40.000000  \n",
       "2     405.797101  \n",
       "3     160.000000  \n",
       "4    1463.414634  "
      ]
     },
     "execution_count": 23,
     "metadata": {},
     "output_type": "execute_result"
    }
   ],
   "source": [
    "df.head()"
   ]
  },
  {
   "cell_type": "code",
   "execution_count": null,
   "id": "3fdf8c26",
   "metadata": {},
   "outputs": [],
   "source": []
  },
  {
   "cell_type": "code",
   "execution_count": null,
   "id": "fa32faee",
   "metadata": {},
   "outputs": [],
   "source": [
    "# 2. How to know \"minimum-value\" of selling ratio..?"
   ]
  },
  {
   "cell_type": "code",
   "execution_count": 24,
   "id": "f98b028d",
   "metadata": {},
   "outputs": [
    {
     "data": {
      "text/html": [
       "<div>\n",
       "<style scoped>\n",
       "    .dataframe tbody tr th:only-of-type {\n",
       "        vertical-align: middle;\n",
       "    }\n",
       "\n",
       "    .dataframe tbody tr th {\n",
       "        vertical-align: top;\n",
       "    }\n",
       "\n",
       "    .dataframe thead th {\n",
       "        text-align: right;\n",
       "    }\n",
       "</style>\n",
       "<table border=\"1\" class=\"dataframe\">\n",
       "  <thead>\n",
       "    <tr style=\"text-align: right;\">\n",
       "      <th></th>\n",
       "      <th>Sales Person</th>\n",
       "      <th>Total</th>\n",
       "      <th>Quantity</th>\n",
       "      <th>Selling Ratio</th>\n",
       "    </tr>\n",
       "  </thead>\n",
       "  <tbody>\n",
       "    <tr>\n",
       "      <th>1</th>\n",
       "      <td>Bill</td>\n",
       "      <td>120000</td>\n",
       "      <td>3000</td>\n",
       "      <td>40.0</td>\n",
       "    </tr>\n",
       "  </tbody>\n",
       "</table>\n",
       "</div>"
      ],
      "text/plain": [
       "  Sales Person   Total  Quantity  Selling Ratio\n",
       "1         Bill  120000      3000           40.0"
      ]
     },
     "execution_count": 24,
     "metadata": {},
     "output_type": "execute_result"
    }
   ],
   "source": [
    "df[['Sales Person','Total','Quantity','Selling Ratio']][df['Selling Ratio'] == df['Selling Ratio'].min()]"
   ]
  },
  {
   "cell_type": "code",
   "execution_count": null,
   "id": "8e0e7f6e",
   "metadata": {},
   "outputs": [],
   "source": []
  },
  {
   "cell_type": "code",
   "execution_count": null,
   "id": "dc0153ae",
   "metadata": {},
   "outputs": [],
   "source": [
    "# 3. How to know \"maximum-value\" of selling ratio..?"
   ]
  },
  {
   "cell_type": "code",
   "execution_count": 25,
   "id": "faab0561",
   "metadata": {},
   "outputs": [
    {
     "data": {
      "text/html": [
       "<div>\n",
       "<style scoped>\n",
       "    .dataframe tbody tr th:only-of-type {\n",
       "        vertical-align: middle;\n",
       "    }\n",
       "\n",
       "    .dataframe tbody tr th {\n",
       "        vertical-align: top;\n",
       "    }\n",
       "\n",
       "    .dataframe thead th {\n",
       "        text-align: right;\n",
       "    }\n",
       "</style>\n",
       "<table border=\"1\" class=\"dataframe\">\n",
       "  <thead>\n",
       "    <tr style=\"text-align: right;\">\n",
       "      <th></th>\n",
       "      <th>Sales Person</th>\n",
       "      <th>Total</th>\n",
       "      <th>Quantity</th>\n",
       "      <th>Selling Ratio</th>\n",
       "    </tr>\n",
       "  </thead>\n",
       "  <tbody>\n",
       "    <tr>\n",
       "      <th>8</th>\n",
       "      <td>Thomas</td>\n",
       "      <td>26000000</td>\n",
       "      <td>1000</td>\n",
       "      <td>26000.0</td>\n",
       "    </tr>\n",
       "  </tbody>\n",
       "</table>\n",
       "</div>"
      ],
      "text/plain": [
       "  Sales Person     Total  Quantity  Selling Ratio\n",
       "8       Thomas  26000000      1000        26000.0"
      ]
     },
     "execution_count": 25,
     "metadata": {},
     "output_type": "execute_result"
    }
   ],
   "source": [
    "df[['Sales Person','Total','Quantity','Selling Ratio']][df['Selling Ratio'] == df['Selling Ratio'].max()]"
   ]
  },
  {
   "cell_type": "code",
   "execution_count": null,
   "id": "41d05eed",
   "metadata": {},
   "outputs": [],
   "source": []
  },
  {
   "cell_type": "code",
   "execution_count": null,
   "id": "3429d6ae",
   "metadata": {},
   "outputs": [],
   "source": []
  },
  {
   "cell_type": "code",
   "execution_count": null,
   "id": "aeb6349f",
   "metadata": {},
   "outputs": [],
   "source": [
    "# PERCENTAGE:-"
   ]
  },
  {
   "cell_type": "code",
   "execution_count": null,
   "id": "77de4d83",
   "metadata": {},
   "outputs": [],
   "source": [
    "# 1. How to add Bonus of 10% to df..?\n",
    "#        \"\"Bonus = Total / 10\"\""
   ]
  },
  {
   "cell_type": "code",
   "execution_count": 26,
   "id": "a585eafc",
   "metadata": {},
   "outputs": [],
   "source": [
    "df['Bonus'] = df['Total'] / 10"
   ]
  },
  {
   "cell_type": "code",
   "execution_count": 27,
   "id": "4f3e89c8",
   "metadata": {},
   "outputs": [
    {
     "data": {
      "text/html": [
       "<div>\n",
       "<style scoped>\n",
       "    .dataframe tbody tr th:only-of-type {\n",
       "        vertical-align: middle;\n",
       "    }\n",
       "\n",
       "    .dataframe tbody tr th {\n",
       "        vertical-align: top;\n",
       "    }\n",
       "\n",
       "    .dataframe thead th {\n",
       "        text-align: right;\n",
       "    }\n",
       "</style>\n",
       "<table border=\"1\" class=\"dataframe\">\n",
       "  <thead>\n",
       "    <tr style=\"text-align: right;\">\n",
       "      <th></th>\n",
       "      <th>Country</th>\n",
       "      <th>Region</th>\n",
       "      <th>Sales Person</th>\n",
       "      <th>Date of Purchase</th>\n",
       "      <th>Total</th>\n",
       "      <th>Quantity</th>\n",
       "      <th>Selling Ratio</th>\n",
       "      <th>Bonus</th>\n",
       "    </tr>\n",
       "  </thead>\n",
       "  <tbody>\n",
       "    <tr>\n",
       "      <th>0</th>\n",
       "      <td>India</td>\n",
       "      <td>North</td>\n",
       "      <td>John</td>\n",
       "      <td>4/4/2018 0:00:00</td>\n",
       "      <td>100000</td>\n",
       "      <td>567</td>\n",
       "      <td>176.366843</td>\n",
       "      <td>10000.0</td>\n",
       "    </tr>\n",
       "    <tr>\n",
       "      <th>1</th>\n",
       "      <td>US</td>\n",
       "      <td>North</td>\n",
       "      <td>Bill</td>\n",
       "      <td>12/11/2017 0:00:00</td>\n",
       "      <td>120000</td>\n",
       "      <td>3000</td>\n",
       "      <td>40.000000</td>\n",
       "      <td>12000.0</td>\n",
       "    </tr>\n",
       "    <tr>\n",
       "      <th>2</th>\n",
       "      <td>UK</td>\n",
       "      <td>North</td>\n",
       "      <td>Thomas</td>\n",
       "      <td>5/12/2016 0:00:00</td>\n",
       "      <td>140000</td>\n",
       "      <td>345</td>\n",
       "      <td>405.797101</td>\n",
       "      <td>14000.0</td>\n",
       "    </tr>\n",
       "    <tr>\n",
       "      <th>3</th>\n",
       "      <td>Australia</td>\n",
       "      <td>East</td>\n",
       "      <td>John</td>\n",
       "      <td>6/20/2011 0:00:00</td>\n",
       "      <td>160000</td>\n",
       "      <td>1000</td>\n",
       "      <td>160.000000</td>\n",
       "      <td>16000.0</td>\n",
       "    </tr>\n",
       "    <tr>\n",
       "      <th>4</th>\n",
       "      <td>Africa</td>\n",
       "      <td>East</td>\n",
       "      <td>Bill</td>\n",
       "      <td>4/12/2011 0:00:00</td>\n",
       "      <td>180000</td>\n",
       "      <td>123</td>\n",
       "      <td>1463.414634</td>\n",
       "      <td>18000.0</td>\n",
       "    </tr>\n",
       "  </tbody>\n",
       "</table>\n",
       "</div>"
      ],
      "text/plain": [
       "     Country Region Sales Person    Date of Purchase   Total  Quantity  \\\n",
       "0      India  North         John    4/4/2018 0:00:00  100000       567   \n",
       "1         US  North         Bill  12/11/2017 0:00:00  120000      3000   \n",
       "2         UK  North       Thomas   5/12/2016 0:00:00  140000       345   \n",
       "3  Australia   East         John   6/20/2011 0:00:00  160000      1000   \n",
       "4     Africa   East         Bill   4/12/2011 0:00:00  180000       123   \n",
       "\n",
       "   Selling Ratio    Bonus  \n",
       "0     176.366843  10000.0  \n",
       "1      40.000000  12000.0  \n",
       "2     405.797101  14000.0  \n",
       "3     160.000000  16000.0  \n",
       "4    1463.414634  18000.0  "
      ]
     },
     "execution_count": 27,
     "metadata": {},
     "output_type": "execute_result"
    }
   ],
   "source": [
    "df.head()"
   ]
  },
  {
   "cell_type": "code",
   "execution_count": null,
   "id": "1f3d194c",
   "metadata": {},
   "outputs": [],
   "source": []
  },
  {
   "cell_type": "code",
   "execution_count": null,
   "id": "24b9776c",
   "metadata": {},
   "outputs": [],
   "source": []
  },
  {
   "cell_type": "code",
   "execution_count": null,
   "id": "ea4fdbdb",
   "metadata": {},
   "outputs": [],
   "source": [
    "# CORRELATION:-"
   ]
  },
  {
   "cell_type": "code",
   "execution_count": 28,
   "id": "fd5ef124",
   "metadata": {},
   "outputs": [
    {
     "data": {
      "text/html": [
       "<div>\n",
       "<style scoped>\n",
       "    .dataframe tbody tr th:only-of-type {\n",
       "        vertical-align: middle;\n",
       "    }\n",
       "\n",
       "    .dataframe tbody tr th {\n",
       "        vertical-align: top;\n",
       "    }\n",
       "\n",
       "    .dataframe thead th {\n",
       "        text-align: right;\n",
       "    }\n",
       "</style>\n",
       "<table border=\"1\" class=\"dataframe\">\n",
       "  <thead>\n",
       "    <tr style=\"text-align: right;\">\n",
       "      <th></th>\n",
       "      <th>Total</th>\n",
       "      <th>Quantity</th>\n",
       "      <th>Selling Ratio</th>\n",
       "      <th>Bonus</th>\n",
       "    </tr>\n",
       "  </thead>\n",
       "  <tbody>\n",
       "    <tr>\n",
       "      <th>Total</th>\n",
       "      <td>1.000000</td>\n",
       "      <td>0.031260</td>\n",
       "      <td>0.984196</td>\n",
       "      <td>1.000000</td>\n",
       "    </tr>\n",
       "    <tr>\n",
       "      <th>Quantity</th>\n",
       "      <td>0.031260</td>\n",
       "      <td>1.000000</td>\n",
       "      <td>-0.070494</td>\n",
       "      <td>0.031260</td>\n",
       "    </tr>\n",
       "    <tr>\n",
       "      <th>Selling Ratio</th>\n",
       "      <td>0.984196</td>\n",
       "      <td>-0.070494</td>\n",
       "      <td>1.000000</td>\n",
       "      <td>0.984196</td>\n",
       "    </tr>\n",
       "    <tr>\n",
       "      <th>Bonus</th>\n",
       "      <td>1.000000</td>\n",
       "      <td>0.031260</td>\n",
       "      <td>0.984196</td>\n",
       "      <td>1.000000</td>\n",
       "    </tr>\n",
       "  </tbody>\n",
       "</table>\n",
       "</div>"
      ],
      "text/plain": [
       "                  Total  Quantity  Selling Ratio     Bonus\n",
       "Total          1.000000  0.031260       0.984196  1.000000\n",
       "Quantity       0.031260  1.000000      -0.070494  0.031260\n",
       "Selling Ratio  0.984196 -0.070494       1.000000  0.984196\n",
       "Bonus          1.000000  0.031260       0.984196  1.000000"
      ]
     },
     "execution_count": 28,
     "metadata": {},
     "output_type": "execute_result"
    }
   ],
   "source": [
    "# Provides us \"correlation-matrix\" of all Numerical-column\n",
    "\n",
    "df.corr()"
   ]
  },
  {
   "cell_type": "code",
   "execution_count": null,
   "id": "02653b6a",
   "metadata": {},
   "outputs": [],
   "source": [
    "# NOTE:-\n",
    "#    1. Positive correlation[1.000]   - Matches perfectly\n",
    "#    2. Medium correlation  [0.0213]  - Doesn't match perfectly\n",
    "#    3. Negative Correlation[-0.0709] - if one value increase & other value decrease\n"
   ]
  },
  {
   "cell_type": "code",
   "execution_count": null,
   "id": "e9d36bba",
   "metadata": {},
   "outputs": [],
   "source": [
    "# NOTE:-\n",
    "#  1.Total & Selling Ratio    ---> Very-Good Correlation ratio\n",
    "#  2.Quantity & Selling Ratio ---> Negative Correlation ratio"
   ]
  },
  {
   "cell_type": "code",
   "execution_count": null,
   "id": "26e9678a",
   "metadata": {},
   "outputs": [],
   "source": []
  },
  {
   "cell_type": "code",
   "execution_count": null,
   "id": "4011cc7b",
   "metadata": {},
   "outputs": [],
   "source": [
    "# 1. How to find correlation for selective fields\n",
    "#     (Total & Quantity)...?"
   ]
  },
  {
   "cell_type": "code",
   "execution_count": 29,
   "id": "3d03468e",
   "metadata": {},
   "outputs": [
    {
     "data": {
      "text/html": [
       "<div>\n",
       "<style scoped>\n",
       "    .dataframe tbody tr th:only-of-type {\n",
       "        vertical-align: middle;\n",
       "    }\n",
       "\n",
       "    .dataframe tbody tr th {\n",
       "        vertical-align: top;\n",
       "    }\n",
       "\n",
       "    .dataframe thead th {\n",
       "        text-align: right;\n",
       "    }\n",
       "</style>\n",
       "<table border=\"1\" class=\"dataframe\">\n",
       "  <thead>\n",
       "    <tr style=\"text-align: right;\">\n",
       "      <th></th>\n",
       "      <th>Total</th>\n",
       "      <th>Quantity</th>\n",
       "    </tr>\n",
       "  </thead>\n",
       "  <tbody>\n",
       "    <tr>\n",
       "      <th>Total</th>\n",
       "      <td>1.00000</td>\n",
       "      <td>0.03126</td>\n",
       "    </tr>\n",
       "    <tr>\n",
       "      <th>Quantity</th>\n",
       "      <td>0.03126</td>\n",
       "      <td>1.00000</td>\n",
       "    </tr>\n",
       "  </tbody>\n",
       "</table>\n",
       "</div>"
      ],
      "text/plain": [
       "            Total  Quantity\n",
       "Total     1.00000   0.03126\n",
       "Quantity  0.03126   1.00000"
      ]
     },
     "execution_count": 29,
     "metadata": {},
     "output_type": "execute_result"
    }
   ],
   "source": [
    "df[['Total','Quantity']].corr()"
   ]
  },
  {
   "cell_type": "code",
   "execution_count": null,
   "id": "d4cf4045",
   "metadata": {},
   "outputs": [],
   "source": []
  },
  {
   "cell_type": "code",
   "execution_count": 31,
   "id": "72435c89",
   "metadata": {},
   "outputs": [
    {
     "data": {
      "text/html": [
       "<div>\n",
       "<style scoped>\n",
       "    .dataframe tbody tr th:only-of-type {\n",
       "        vertical-align: middle;\n",
       "    }\n",
       "\n",
       "    .dataframe tbody tr th {\n",
       "        vertical-align: top;\n",
       "    }\n",
       "\n",
       "    .dataframe thead th {\n",
       "        text-align: right;\n",
       "    }\n",
       "</style>\n",
       "<table border=\"1\" class=\"dataframe\">\n",
       "  <thead>\n",
       "    <tr style=\"text-align: right;\">\n",
       "      <th></th>\n",
       "      <th>Total</th>\n",
       "      <th>Selling Ratio</th>\n",
       "    </tr>\n",
       "  </thead>\n",
       "  <tbody>\n",
       "    <tr>\n",
       "      <th>Total</th>\n",
       "      <td>1.000000</td>\n",
       "      <td>0.984196</td>\n",
       "    </tr>\n",
       "    <tr>\n",
       "      <th>Selling Ratio</th>\n",
       "      <td>0.984196</td>\n",
       "      <td>1.000000</td>\n",
       "    </tr>\n",
       "  </tbody>\n",
       "</table>\n",
       "</div>"
      ],
      "text/plain": [
       "                  Total  Selling Ratio\n",
       "Total          1.000000       0.984196\n",
       "Selling Ratio  0.984196       1.000000"
      ]
     },
     "execution_count": 31,
     "metadata": {},
     "output_type": "execute_result"
    }
   ],
   "source": [
    "df[['Total','Selling Ratio']].corr()"
   ]
  },
  {
   "cell_type": "code",
   "execution_count": null,
   "id": "7587ebfb",
   "metadata": {},
   "outputs": [],
   "source": [
    "# Here \"Total\"  &  \"Selling Ratio\" --> positive correlated(Very_Good_Match)"
   ]
  }
 ],
 "metadata": {
  "kernelspec": {
   "display_name": "Python 3 (ipykernel)",
   "language": "python",
   "name": "python3"
  },
  "language_info": {
   "codemirror_mode": {
    "name": "ipython",
    "version": 3
   },
   "file_extension": ".py",
   "mimetype": "text/x-python",
   "name": "python",
   "nbconvert_exporter": "python",
   "pygments_lexer": "ipython3",
   "version": "3.9.13"
  }
 },
 "nbformat": 4,
 "nbformat_minor": 5
}
